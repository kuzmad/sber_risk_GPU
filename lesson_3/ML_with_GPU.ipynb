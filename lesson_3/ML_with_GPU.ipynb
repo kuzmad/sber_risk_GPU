{
 "cells": [
  {
   "cell_type": "code",
   "execution_count": null,
   "metadata": {},
   "outputs": [],
   "source": [
    "from sklearn.datasets import make_classification\n",
    "from sklearn.model_selection import train_test_split"
   ]
  },
  {
   "cell_type": "code",
   "execution_count": null,
   "metadata": {},
   "outputs": [],
   "source": [
    "# параметры \n",
    "n_samples = 2000000\n",
    "n_features = 40\n",
    "n_classes = 2\n",
    "\n",
    "# random forest depth and size\n",
    "n_estimators = 1000\n",
    "max_depth = 7"
   ]
  },
  {
   "cell_type": "code",
   "execution_count": null,
   "metadata": {},
   "outputs": [],
   "source": [
    "X, y = make_classification(n_classes=n_classes, n_features=n_features, n_samples=n_samples, random_state=0, class_sep=0.7)"
   ]
  },
  {
   "cell_type": "markdown",
   "metadata": {},
   "source": [
    "# Catboost\n",
    "\n",
    "Замечательная библиотека, которая из коробки умеет в GPU и multi-GPU без всяких сторонних бибилиотек. Она умеет также работать с категориальными переменными и по многим экспериментам быстрее XGBoost и LightGBM."
   ]
  },
  {
   "cell_type": "code",
   "execution_count": null,
   "metadata": {},
   "outputs": [],
   "source": [
    "from catboost import CatBoostClassifier, Pool"
   ]
  },
  {
   "cell_type": "markdown",
   "metadata": {},
   "source": [
    "CPU версия catboost на самом деле медленная, но вообще он писался больше для рассчетов на GPU. В Pool лучше данные загнать, но если очень не хочется, то можно и без этого немного в ущерб скорости при первом запуске, так как это все равно произойдет =)"
   ]
  },
  {
   "cell_type": "code",
   "execution_count": null,
   "metadata": {},
   "outputs": [],
   "source": [
    "X_cat = Pool(X, y)"
   ]
  },
  {
   "cell_type": "code",
   "execution_count": null,
   "metadata": {},
   "outputs": [],
   "source": [
    "%%time \n",
    "cpu_catboost = CatBoostClassifier(iterations=1000, max_depth=7, task_type='CPU',\n",
    "                                        boosting_type='Plain', verbose=0,\n",
    "                                        thread_count=-1).fit(X, y)"
   ]
  },
  {
   "cell_type": "code",
   "execution_count": null,
   "metadata": {},
   "outputs": [],
   "source": [
    "%%time \n",
    "cpu_catboost = CatBoostClassifier(iterations=1000, max_depth=7, task_type='CPU',\n",
    "                                        boosting_type='Plain', verbose=0,\n",
    "                                        thread_count=-1).fit(X_cat)"
   ]
  },
  {
   "cell_type": "markdown",
   "metadata": {},
   "source": [
    "По умолчанию Catboost возьмет все доступные гпу и 50% памяти, не берите все, если не нужно =)"
   ]
  },
  {
   "cell_type": "code",
   "execution_count": null,
   "metadata": {},
   "outputs": [],
   "source": [
    "%%time \n",
    "gpu_catboost = CatBoostClassifier(iterations=1000, task_type='GPU',  boosting_type='Plain',\n",
    "                                  verbose=0, devices='0', gpu_ram_part=0.5).fit(X, y, verbose=False)"
   ]
  },
  {
   "cell_type": "code",
   "execution_count": null,
   "metadata": {},
   "outputs": [],
   "source": [
    "%%time \n",
    "gpu_catboost = CatBoostClassifier(iterations=1000, task_type='GPU',  boosting_type='Plain',\n",
    "                                  verbose=0, devices='0', gpu_ram_part=0.5).fit(X_cat, verbose=False)"
   ]
  },
  {
   "cell_type": "code",
   "execution_count": null,
   "metadata": {},
   "outputs": [],
   "source": [
    "%%time \n",
    "gpu_catboost = CatBoostClassifier(iterations=1000, task_type='GPU',  boosting_type='Plain',\n",
    "                                  verbose=0, devices='0:1', gpu_ram_part=0.5).fit(X_cat, verbose=False)"
   ]
  },
  {
   "cell_type": "markdown",
   "metadata": {},
   "source": [
    "По умолчанию берутся все GPU"
   ]
  },
  {
   "cell_type": "code",
   "execution_count": null,
   "metadata": {},
   "outputs": [],
   "source": [
    "%%time \n",
    "gpu_catboost = CatBoostClassifier(iterations=1000, task_type='GPU',  boosting_type='Plain',\n",
    "                                  verbose=0, gpu_ram_part=0.5).fit(X_cat, verbose=False)"
   ]
  }
 ],
 "metadata": {
  "kernelspec": {
   "display_name": "Python 3",
   "language": "python",
   "name": "python3"
  },
  "language_info": {
   "codemirror_mode": {
    "name": "ipython",
    "version": 3
   },
   "file_extension": ".py",
   "mimetype": "text/x-python",
   "name": "python",
   "nbconvert_exporter": "python",
   "pygments_lexer": "ipython3",
   "version": "3.7.10"
  }
 },
 "nbformat": 4,
 "nbformat_minor": 4
}
