{
 "cells": [
  {
   "cell_type": "code",
   "execution_count": null,
   "source": [
    "import cudf\n",
    "import cugraph as cg\n",
    "\n",
    "import networkx as nx\n",
    "import pandas as pd\n",
    "import matplotlib.pyplot as plt\n",
    "%matplotlib inline"
   ],
   "outputs": [],
   "metadata": {}
  },
  {
   "cell_type": "markdown",
   "source": [
    "## Networkx"
   ],
   "metadata": {}
  },
  {
   "cell_type": "markdown",
   "source": [
    "Создадим простой граф при помощи networkx"
   ],
   "metadata": {}
  },
  {
   "cell_type": "code",
   "execution_count": null,
   "source": [
    "G = nx.Graph()"
   ],
   "outputs": [],
   "metadata": {}
  },
  {
   "cell_type": "markdown",
   "source": [
    "добавим 1 ноду к графу"
   ],
   "metadata": {}
  },
  {
   "cell_type": "code",
   "execution_count": null,
   "source": [
    "G.add_node(1)"
   ],
   "outputs": [],
   "metadata": {}
  },
  {
   "cell_type": "code",
   "execution_count": null,
   "source": [
    "G.nodes"
   ],
   "outputs": [],
   "metadata": {}
  },
  {
   "cell_type": "markdown",
   "source": [
    "Можно также добавить несколько нод сразу"
   ],
   "metadata": {}
  },
  {
   "cell_type": "code",
   "execution_count": null,
   "source": [
    "G.add_nodes_from([2, 3])\n",
    "G.nodes"
   ],
   "outputs": [],
   "metadata": {}
  },
  {
   "cell_type": "markdown",
   "source": [
    "Добавим также связи между узлами"
   ],
   "metadata": {}
  },
  {
   "cell_type": "code",
   "execution_count": null,
   "source": [
    "G.add_edges_from([(1, 2), (1, 3)])"
   ],
   "outputs": [],
   "metadata": {}
  },
  {
   "cell_type": "code",
   "execution_count": null,
   "source": [
    "G.edges"
   ],
   "outputs": [],
   "metadata": {}
  },
  {
   "cell_type": "markdown",
   "source": [
    "## cuGraph"
   ],
   "metadata": {}
  },
  {
   "cell_type": "markdown",
   "source": [
    "Давайте повторим это все в cugraph"
   ],
   "metadata": {}
  },
  {
   "cell_type": "markdown",
   "source": [
    "cg.Graph() - ненаправленный граф, cg.DiGraph() - направленный граф"
   ],
   "metadata": {}
  },
  {
   "cell_type": "code",
   "execution_count": null,
   "source": [
    "G_gpu = cg.Graph()"
   ],
   "outputs": [],
   "metadata": {}
  },
  {
   "cell_type": "markdown",
   "source": [
    "add_node к сожалению нет, но есть add_nodes_from"
   ],
   "metadata": {}
  },
  {
   "cell_type": "code",
   "execution_count": null,
   "source": [
    "G_gpu.add_nodes_from([1])\n",
    "G_gpu.nodes()"
   ],
   "outputs": [],
   "metadata": {}
  },
  {
   "cell_type": "markdown",
   "source": [
    "Нюанс, ноды перезаписываются, так как считается, что мы передаем все необходимые ноды"
   ],
   "metadata": {}
  },
  {
   "cell_type": "code",
   "execution_count": null,
   "source": [
    "G_gpu.add_nodes_from([2, 3])\n",
    "G_gpu.nodes()"
   ],
   "outputs": [],
   "metadata": {}
  },
  {
   "cell_type": "markdown",
   "source": [
    "Чтобы добавить что-то новое придется заново инициализировать граф"
   ],
   "metadata": {}
  },
  {
   "cell_type": "markdown",
   "source": [
    "Можно через pandas, numpy, cudf, dask-cudf"
   ],
   "metadata": {}
  },
  {
   "cell_type": "code",
   "execution_count": null,
   "source": [
    "edge_list = cudf.DataFrame({\n",
    "    'source': [1, 1],\n",
    "    'destination': [2, 3]\n",
    "})"
   ],
   "outputs": [],
   "metadata": {}
  },
  {
   "cell_type": "code",
   "execution_count": null,
   "source": [
    "G_gpu = cg.Graph()\n",
    "G_gpu.from_cudf_edgelist(edge_list, source='source', destination='destination')"
   ],
   "outputs": [],
   "metadata": {}
  },
  {
   "cell_type": "code",
   "execution_count": null,
   "source": [
    "G_gpu.nodes()"
   ],
   "outputs": [],
   "metadata": {}
  },
  {
   "cell_type": "code",
   "execution_count": null,
   "source": [
    "G_gpu.edges()"
   ],
   "outputs": [],
   "metadata": {}
  },
  {
   "cell_type": "markdown",
   "source": [
    "Например, если захотим добавить что-то новое, то можно сделать так:"
   ],
   "metadata": {}
  },
  {
   "cell_type": "code",
   "execution_count": null,
   "source": [
    "appended_values = cudf.DataFrame({\n",
    "    'source': [2],\n",
    "    'destination': [3]\n",
    "})\n",
    "edge_list = edge_list.append(appended_values, ignore_index=True)"
   ],
   "outputs": [],
   "metadata": {}
  },
  {
   "cell_type": "code",
   "execution_count": null,
   "source": [
    "edge_list"
   ],
   "outputs": [],
   "metadata": {}
  },
  {
   "cell_type": "code",
   "execution_count": null,
   "source": [
    "G_gpu = cg.Graph()\n",
    "G_gpu.from_cudf_edgelist(edge_list, source='source', destination='destination')\n",
    "G_gpu.edges()"
   ],
   "outputs": [],
   "metadata": {}
  },
  {
   "cell_type": "markdown",
   "source": [
    "## Давайте загрузим известный датасет карате клуб и попробуем поанализировать его в разных фреймворках"
   ],
   "metadata": {}
  },
  {
   "cell_type": "markdown",
   "source": [
    "## Networkx"
   ],
   "metadata": {}
  },
  {
   "cell_type": "markdown",
   "source": [
    "https://raw.githubusercontent.com/rapidsai/notebooks/branch-0.8/cugraph/data/karate-data.csv"
   ],
   "metadata": {}
  },
  {
   "cell_type": "code",
   "execution_count": null,
   "source": [
    "edges = pd.read_csv('karate-data.csv', sep='\\t', names=['source', 'destination'])"
   ],
   "outputs": [],
   "metadata": {}
  },
  {
   "cell_type": "code",
   "execution_count": null,
   "source": [
    "edges"
   ],
   "outputs": [],
   "metadata": {}
  },
  {
   "cell_type": "code",
   "execution_count": null,
   "source": [
    "G = nx.Graph()\n",
    "G = nx.from_pandas_edgelist(edges, source='source', target='destination')"
   ],
   "outputs": [],
   "metadata": {}
  },
  {
   "cell_type": "code",
   "execution_count": null,
   "source": [
    "nx.draw(G, with_labels=True)"
   ],
   "outputs": [],
   "metadata": {}
  },
  {
   "cell_type": "markdown",
   "source": [
    "Давайте поисследуем сам граф"
   ],
   "metadata": {}
  },
  {
   "cell_type": "markdown",
   "source": [
    "Средняя степень узлов сети и общие характеритики"
   ],
   "metadata": {}
  },
  {
   "cell_type": "code",
   "execution_count": null,
   "source": [
    "def mean_nodes_degree(g):\n",
    "    return 2 * len(g.edges) / len(g.nodes)"
   ],
   "outputs": [],
   "metadata": {}
  },
  {
   "cell_type": "code",
   "execution_count": null,
   "source": [
    "def get_statistics(g):\n",
    "    print(f'Number of nodes = {len(g.nodes)}')\n",
    "    print(f'Number of edges = {len(g.edges)}')"
   ],
   "outputs": [],
   "metadata": {}
  },
  {
   "cell_type": "code",
   "execution_count": null,
   "source": [
    "get_statistics(G)"
   ],
   "outputs": [],
   "metadata": {}
  },
  {
   "cell_type": "code",
   "execution_count": null,
   "source": [
    "mean_nodes_degree(G)"
   ],
   "outputs": [],
   "metadata": {}
  },
  {
   "cell_type": "code",
   "execution_count": null,
   "source": [
    "G.degree"
   ],
   "outputs": [],
   "metadata": {}
  },
  {
   "cell_type": "markdown",
   "source": [
    "Каждый узел важен для сети по разному и для определения важности есть меры центральности. Мы рассмотрим центральность по степени и центральность по посредничеству"
   ],
   "metadata": {}
  },
  {
   "cell_type": "code",
   "execution_count": null,
   "source": [
    "def get_centrality_by_degree(g):\n",
    "    centrality = nx.algorithms.centrality.degree_centrality(g)\n",
    "    return sorted(list(centrality.items()), key=lambda x: x[1], reverse=True)"
   ],
   "outputs": [],
   "metadata": {}
  },
  {
   "cell_type": "code",
   "execution_count": null,
   "source": [
    "get_centrality_by_degree(G)"
   ],
   "outputs": [],
   "metadata": {}
  },
  {
   "cell_type": "code",
   "execution_count": null,
   "source": [
    "def get_centrality_by_betweenness(g):\n",
    "    centrality = nx.algorithms.centrality.betweenness_centrality(g)\n",
    "    return sorted(list(centrality.items()), key=lambda x: x[1], reverse=True)"
   ],
   "outputs": [],
   "metadata": {}
  },
  {
   "cell_type": "code",
   "execution_count": null,
   "source": [
    "get_centrality_by_betweenness(G)"
   ],
   "outputs": [],
   "metadata": {}
  },
  {
   "cell_type": "markdown",
   "source": [
    "PageRank"
   ],
   "metadata": {}
  },
  {
   "cell_type": "code",
   "execution_count": null,
   "source": [
    "nx.pagerank(G,alpha=0.9)"
   ],
   "outputs": [],
   "metadata": {}
  },
  {
   "cell_type": "markdown",
   "source": [
    "Пора сделать аналогичное в cuGraph"
   ],
   "metadata": {}
  },
  {
   "cell_type": "markdown",
   "source": [
    "## CuGraph"
   ],
   "metadata": {}
  },
  {
   "cell_type": "code",
   "execution_count": null,
   "source": [
    "edges_gpu = cudf.read_csv('karate-data.csv', sep='\\t', names=['source', 'destination'])"
   ],
   "outputs": [],
   "metadata": {}
  },
  {
   "cell_type": "code",
   "execution_count": null,
   "source": [
    "edges_gpu"
   ],
   "outputs": [],
   "metadata": {}
  },
  {
   "cell_type": "code",
   "execution_count": null,
   "source": [
    "G_gpu = cg.Graph()\n",
    "G_gpu.from_cudf_edgelist(edges_gpu, source='source', destination='destination')"
   ],
   "outputs": [],
   "metadata": {}
  },
  {
   "cell_type": "markdown",
   "source": [
    "Посчитаем статистики, как и в networkx"
   ],
   "metadata": {}
  },
  {
   "cell_type": "code",
   "execution_count": null,
   "source": [
    "def mean_nodes_degree(g):\n",
    "    return 2 * len(g.edges()) / len(g.nodes())"
   ],
   "outputs": [],
   "metadata": {}
  },
  {
   "cell_type": "code",
   "execution_count": null,
   "source": [
    "def get_statistics(g):\n",
    "    print(f'Number of nodes = {len(g.nodes())}')\n",
    "    print(f'Number of edges = {len(g.edges())}')"
   ],
   "outputs": [],
   "metadata": {}
  },
  {
   "cell_type": "code",
   "execution_count": null,
   "source": [
    "get_statistics(G_gpu)"
   ],
   "outputs": [],
   "metadata": {}
  },
  {
   "cell_type": "code",
   "execution_count": null,
   "source": [
    "mean_nodes_degree(G_gpu)"
   ],
   "outputs": [],
   "metadata": {}
  },
  {
   "cell_type": "markdown",
   "source": [
    "Надо быть внимательным, так как cugraph считает, что связь между нодами дает не 1 степень, а 2 (in и out)"
   ],
   "metadata": {}
  },
  {
   "cell_type": "code",
   "execution_count": null,
   "source": [
    "G_gpu.degree()"
   ],
   "outputs": [],
   "metadata": {}
  },
  {
   "cell_type": "markdown",
   "source": [
    "Меры центральности"
   ],
   "metadata": {}
  },
  {
   "cell_type": "markdown",
   "source": [
    "Центральность по степени не запрогали за нас, сделаем сами=)"
   ],
   "metadata": {}
  },
  {
   "cell_type": "code",
   "execution_count": null,
   "source": [
    "def get_centrality_by_degree(g):\n",
    "    centrality = g.degree()\n",
    "    centrality['degree_centrality'] = centrality['degree'] / (len(g.nodes())-1) / 2\n",
    "    centrality = centrality.sort_values(by='degree_centrality', ascending=False)\n",
    "    return centrality"
   ],
   "outputs": [],
   "metadata": {}
  },
  {
   "cell_type": "code",
   "execution_count": null,
   "source": [
    "get_centrality_by_degree(G_gpu)"
   ],
   "outputs": [],
   "metadata": {}
  },
  {
   "cell_type": "code",
   "execution_count": null,
   "source": [
    "def get_centrality_by_betweenness(g):\n",
    "    centrality = cg.centrality.betweenness_centrality(g)\n",
    "    centrality = centrality.sort_values(by='betweenness_centrality', ascending=False)\n",
    "    return centrality"
   ],
   "outputs": [],
   "metadata": {}
  },
  {
   "cell_type": "code",
   "execution_count": null,
   "source": [
    "get_centrality_by_betweenness(G_gpu)"
   ],
   "outputs": [],
   "metadata": {}
  },
  {
   "cell_type": "markdown",
   "source": [
    "PageRank"
   ],
   "metadata": {}
  },
  {
   "cell_type": "code",
   "execution_count": null,
   "source": [
    "cg.link_analysis.pagerank(G_gpu)"
   ],
   "outputs": [],
   "metadata": {}
  },
  {
   "cell_type": "markdown",
   "source": [
    "Много чего нет в cuGraph, но есть и преимущества)\n",
    "Например, в Networkx не реализованы алгоритмы кластеризации (их мало), а многие из существующих есть в cuGraph"
   ],
   "metadata": {}
  },
  {
   "cell_type": "markdown",
   "source": [
    "Метод louvain на основе меры модулярности"
   ],
   "metadata": {}
  },
  {
   "cell_type": "code",
   "execution_count": null,
   "source": [
    "def louvain_clusters(g):\n",
    "    result = cg.community.louvain(g)\n",
    "    modularity = result[1]\n",
    "    clusters = result[0]\n",
    "    return modularity, clusters"
   ],
   "outputs": [],
   "metadata": {}
  },
  {
   "cell_type": "code",
   "execution_count": null,
   "source": [
    "modularity, clusters = louvain_clusters(G_gpu)"
   ],
   "outputs": [],
   "metadata": {}
  },
  {
   "cell_type": "code",
   "execution_count": null,
   "source": [
    "modularity"
   ],
   "outputs": [],
   "metadata": {}
  },
  {
   "cell_type": "code",
   "execution_count": null,
   "source": [
    "clusters = clusters.to_pandas()\n",
    "clusters = clusters.sort_values(by='vertex')"
   ],
   "outputs": [],
   "metadata": {}
  },
  {
   "cell_type": "code",
   "execution_count": null,
   "source": [
    "clusters = pd.DataFrame(G.nodes).merge(clusters, left_on=0, right_on='vertex')"
   ],
   "outputs": [],
   "metadata": {}
  },
  {
   "cell_type": "markdown",
   "source": [
    "Отрисуем граф при помощи Networkx"
   ],
   "metadata": {}
  },
  {
   "cell_type": "code",
   "execution_count": null,
   "source": [
    "nx.draw(G,node_color=clusters['partition'],node_size=200)"
   ],
   "outputs": [],
   "metadata": {}
  },
  {
   "cell_type": "markdown",
   "source": [
    "## Multi-GPU"
   ],
   "metadata": {}
  },
  {
   "cell_type": "markdown",
   "source": [
    "Это нам уже знакомо. Используем dask-cudf и радуемся тому, что теперь все можно делать на нескольких GPU"
   ],
   "metadata": {}
  },
  {
   "cell_type": "code",
   "execution_count": null,
   "source": [
    "import subprocess\n",
    "from dask_cuda import LocalCUDACluster\n",
    "from dask.distributed import Client, progress\n",
    "import dask_cudf\n",
    "import dask.dataframe as dd"
   ],
   "outputs": [],
   "metadata": {}
  },
  {
   "cell_type": "code",
   "execution_count": null,
   "source": [
    "cmd = \"hostname --all-ip-addresses\"\n",
    "\n",
    "process = subprocess.Popen(cmd.split(), stdout=subprocess.PIPE)\n",
    "output, error = process.communicate()\n",
    "IPADDR = str(output.decode()).split()[0]\n",
    "\n",
    "cluster = LocalCUDACluster(ip=IPADDR)\n",
    "client = Client(cluster)\n",
    "client"
   ],
   "outputs": [],
   "metadata": {}
  },
  {
   "cell_type": "code",
   "execution_count": null,
   "source": [
    "edges_gpu = dask_cudf.read_csv('karate-data.csv', sep='\\t', names=['source', 'destination'])"
   ],
   "outputs": [],
   "metadata": {}
  },
  {
   "cell_type": "code",
   "execution_count": null,
   "source": [
    "G_gpu = cg.Graph()\n",
    "G_gpu.from_cudf_edgelist(edges_gpu, source='source', destination='destination')"
   ],
   "outputs": [],
   "metadata": {}
  },
  {
   "cell_type": "code",
   "execution_count": null,
   "source": [
    "type(G_gpu.nodes())"
   ],
   "outputs": [],
   "metadata": {}
  },
  {
   "cell_type": "code",
   "execution_count": null,
   "source": [
    "get_centrality_by_betweenness(G_gpu)"
   ],
   "outputs": [],
   "metadata": {}
  },
  {
   "cell_type": "markdown",
   "source": [
    "Ниже представлен алгоритм Гирвана-Ньюмена по поиску сообществ. Его идея:\n",
    "\n",
    "    1) Находим такое ребро, через которое проходит наибольшее количество кратчайших путей\n",
    "    2) Удаляем данное ребро из графа\n",
    "    3) После удаления ребра проверяем, не появились ли у нас изолированные сообщества\n",
    "    4) Повторяем алгоритм до получения нужного количества сообществ"
   ],
   "metadata": {}
  },
  {
   "cell_type": "markdown",
   "source": [
    "# Girvan-Newman (NetworkX)"
   ],
   "metadata": {}
  },
  {
   "cell_type": "code",
   "execution_count": null,
   "source": [
    "def most_central_edge(G):\n",
    "    centrality = nx.algorithms.centrality.edge_betweenness_centrality(G)\n",
    "    return max(centrality, key=centrality.get)"
   ],
   "outputs": [],
   "metadata": {}
  },
  {
   "cell_type": "code",
   "execution_count": null,
   "source": [
    "def get_n_cluster(G, n_clusters):\n",
    "    G_new = G.copy()\n",
    "    while len(list(nx.connected_components(G_new))) < n_clusters:\n",
    "        edge_to_remove = most_central_edge(G_new)\n",
    "        G_new.remove_edge(edge_to_remove[0], edge_to_remove[1])\n",
    "    return list(nx.connected_components(G_new))"
   ],
   "outputs": [],
   "metadata": {}
  },
  {
   "cell_type": "code",
   "execution_count": null,
   "source": [
    "def get_color_map(G, connected_components):\n",
    "    b = {}\n",
    "    for i, values in enumerate(connected_components):\n",
    "        for value in values:\n",
    "            b[value] = i\n",
    "    color_map = []\n",
    "    for node in G.nodes():\n",
    "        color_map.append(b[node])\n",
    "    return color_map"
   ],
   "outputs": [],
   "metadata": {}
  },
  {
   "cell_type": "code",
   "execution_count": null,
   "source": [
    "clusters = get_n_cluster(G, 4)\n",
    "nx.draw(G,node_size=200, with_labels=True, node_color=get_color_map(G, clusters))"
   ],
   "outputs": [],
   "metadata": {}
  },
  {
   "cell_type": "markdown",
   "source": [
    "# Домашнее задание\n",
    "\n",
    "В NetworkX есть алгоритм определения центральности через собственные вектора nx.algorithms.centrality.eigenvector_centrality(G). Сейчас мы рассмотрим реализацию данного алгоритма.\n",
    "Заданием будет следующее:\n",
    "\n",
    "    1) Переписать реализацию под GPU (cupy, numba, cudf, cugraph...)\n",
    "    2) Для графа карате клуба вычислить degree centrality, betweenness centrality, eigenvector centrality и pagerank.\n",
    "    3) Сравнить 4 характеристики между собой, на сколько они похожи \\ отличаются и в чем"
   ],
   "metadata": {}
  },
  {
   "cell_type": "code",
   "execution_count": null,
   "source": [
    "nx.algorithms.centrality.eigenvector_centrality(G)"
   ],
   "outputs": [],
   "metadata": {}
  },
  {
   "cell_type": "code",
   "execution_count": null,
   "source": [
    "def eigen_centrality(G):\n",
    "    #переведем в матрицу numpy\n",
    "    M = nx.to_numpy_matrix(G)\n",
    "    #получим собственные вектора и собственные значения\n",
    "    eigenvalue, eigenvector = np.linalg.eig(M)\n",
    "    #берем вектор, соответсвующий наибольшему собственному значению\n",
    "    largest = np.array(eigenvector[:, 0].flatten().real)[0]\n",
    "    #нормируем\n",
    "    norm = np.sign(largest.sum()) * np.linalg.norm(largest)\n",
    "    eigen = largest / norm\n",
    "    return dict(zip(G, eigen))"
   ],
   "outputs": [],
   "metadata": {}
  },
  {
   "cell_type": "code",
   "execution_count": null,
   "source": [
    "eigen_centrality(G)"
   ],
   "outputs": [],
   "metadata": {}
  },
  {
   "cell_type": "markdown",
   "source": [
    "Немного помощи с ДЗ"
   ],
   "metadata": {}
  },
  {
   "cell_type": "code",
   "execution_count": null,
   "source": [
    "#если не добавить веса, то будет все ломаться\n",
    "edges_gpu['weights'] = 1"
   ],
   "outputs": [],
   "metadata": {}
  },
  {
   "cell_type": "code",
   "execution_count": null,
   "source": [
    "#результаты будут отличаться от networkx в том случае, если граф взять ненаправленным. Тут возьмите направленный!\n",
    "#влияет на матрицу смежности, собственные вектора получите, но они будут другими\n",
    "G_gpu = cg.DiGraph()\n",
    "G_gpu.from_cudf_edgelist(edges_gpu, source='source', destination='destination', edge_attr='weights')"
   ],
   "outputs": [],
   "metadata": {
    "scrolled": true
   }
  },
  {
   "cell_type": "markdown",
   "source": [
    "P.S. будьте внимательны с тем, где находится наибольшее собственное значение"
   ],
   "metadata": {}
  }
 ],
 "metadata": {
  "kernelspec": {
   "display_name": "Python 3",
   "language": "python",
   "name": "python3"
  },
  "language_info": {
   "codemirror_mode": {
    "name": "ipython",
    "version": 3
   },
   "file_extension": ".py",
   "mimetype": "text/x-python",
   "name": "python",
   "nbconvert_exporter": "python",
   "pygments_lexer": "ipython3",
   "version": "3.7.10"
  }
 },
 "nbformat": 4,
 "nbformat_minor": 4
}