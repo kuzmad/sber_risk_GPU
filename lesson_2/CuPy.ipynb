{
 "cells": [
  {
   "cell_type": "code",
   "execution_count": null,
   "metadata": {},
   "outputs": [],
   "source": [
    "import cupy as cp\n",
    "import numpy as np"
   ]
  },
  {
   "cell_type": "markdown",
   "metadata": {},
   "source": [
    "user - время, затраченное на сами вычисления\n",
    "\n",
    "sys - время, затраченное всеми процессорами на выполнение связанных с системой задач, таких как выделение памяти, например."
   ]
  },
  {
   "cell_type": "code",
   "execution_count": null,
   "metadata": {},
   "outputs": [],
   "source": [
    "np_array = np.random.random_sample(5000000)\n",
    "cp_array = cp.random.random_sample(5000000)"
   ]
  },
  {
   "cell_type": "code",
   "execution_count": null,
   "metadata": {},
   "outputs": [],
   "source": [
    "%time np_array.mean()"
   ]
  },
  {
   "cell_type": "code",
   "execution_count": null,
   "metadata": {},
   "outputs": [],
   "source": [
    "%time np_array.sum()"
   ]
  },
  {
   "cell_type": "code",
   "execution_count": null,
   "metadata": {},
   "outputs": [],
   "source": [
    "%time cp_array.mean()"
   ]
  },
  {
   "cell_type": "code",
   "execution_count": null,
   "metadata": {},
   "outputs": [],
   "source": [
    "%time cp_array.sum()"
   ]
  },
  {
   "cell_type": "code",
   "execution_count": null,
   "metadata": {},
   "outputs": [],
   "source": [
    "def logistic_numpy(y):\n",
    "    return 1 / (1 + np.exp(-y))\n",
    "\n",
    "def logistic_cupy(y):\n",
    "    return 1 / (1 + cp.exp(-y))"
   ]
  },
  {
   "cell_type": "code",
   "execution_count": null,
   "metadata": {},
   "outputs": [],
   "source": [
    "%time logistic_numpy(np_array)"
   ]
  },
  {
   "cell_type": "code",
   "execution_count": null,
   "metadata": {},
   "outputs": [],
   "source": [
    "%time logistic_cupy(cp_array)"
   ]
  },
  {
   "cell_type": "markdown",
   "metadata": {},
   "source": [
    "А можно ли написать такую функцию, чтобы она при наличии numpy массива использовала CPU, а при наличии cupy GPU?"
   ]
  },
  {
   "cell_type": "code",
   "execution_count": null,
   "metadata": {},
   "outputs": [],
   "source": [
    "def univers_logistic(y):\n",
    "    yp = cp.get_array_module(y)\n",
    "    return 1 / (1 + yp.exp(y)) \n",
    "\n",
    "def universe_dot(x, y):\n",
    "    xp = cp.get_array_module(y)\n",
    "    return xp.dot(x, y)"
   ]
  },
  {
   "cell_type": "code",
   "execution_count": null,
   "metadata": {},
   "outputs": [],
   "source": [
    "%time univers_logistic(np_array)"
   ]
  },
  {
   "cell_type": "code",
   "execution_count": null,
   "metadata": {},
   "outputs": [],
   "source": [
    "%time univers_logistic(cp_array)"
   ]
  },
  {
   "cell_type": "markdown",
   "metadata": {},
   "source": [
    "# Как переключать видеокарты?"
   ]
  },
  {
   "cell_type": "markdown",
   "metadata": {},
   "source": [
    "Глобальное переключение"
   ]
  },
  {
   "cell_type": "code",
   "execution_count": null,
   "metadata": {},
   "outputs": [],
   "source": [
    "cp.cuda.Device(0).use()"
   ]
  },
  {
   "cell_type": "markdown",
   "metadata": {},
   "source": [
    "Переключение в рамках контекстного менеджера"
   ]
  },
  {
   "cell_type": "code",
   "execution_count": null,
   "metadata": {},
   "outputs": [],
   "source": [
    "with cp.cuda.Device(0):\n",
    "    gpu_0 = cp.array([1, 2, 3, 4, 5])\n",
    "with cp.cuda.Device(1):\n",
    "    gpu_1 = cp.array([1, 2, 3, 4, 5])\n",
    "    \n",
    "print(f'gpu_0 device - {gpu_0.device}, gpu_1 device - {gpu_1.device}')"
   ]
  },
  {
   "cell_type": "markdown",
   "metadata": {},
   "source": [
    "Проводить операции с массивами на разных видеокартах напрямую нельзя"
   ]
  },
  {
   "cell_type": "code",
   "execution_count": null,
   "metadata": {},
   "outputs": [],
   "source": [
    "gpu_0 + gpu_1"
   ]
  },
  {
   "cell_type": "code",
   "execution_count": null,
   "metadata": {},
   "outputs": [],
   "source": [
    "gpu_1.device"
   ]
  },
  {
   "cell_type": "code",
   "execution_count": null,
   "metadata": {},
   "outputs": [],
   "source": [
    "with cp.cuda.Device(0):\n",
    "    gpu_1 = cp.asarray(gpu_1)\n",
    "print(f'gpu_1 device - {gpu_1.device}')\n",
    "gpu_0 + gpu_1"
   ]
  },
  {
   "cell_type": "markdown",
   "metadata": {},
   "source": [
    "# Передать массив между CPU и GPU"
   ]
  },
  {
   "cell_type": "code",
   "execution_count": null,
   "metadata": {},
   "outputs": [],
   "source": [
    "#первый способ\n",
    "x_cpu = cp.asnumpy(gpu_0)"
   ]
  },
  {
   "cell_type": "code",
   "execution_count": null,
   "metadata": {},
   "outputs": [],
   "source": [
    "x_cpu"
   ]
  },
  {
   "cell_type": "code",
   "execution_count": null,
   "metadata": {},
   "outputs": [],
   "source": [
    "#второй способ\n",
    "x_cpu = gpu_0.get()"
   ]
  },
  {
   "cell_type": "code",
   "execution_count": null,
   "metadata": {},
   "outputs": [],
   "source": [
    "x_cpu"
   ]
  },
  {
   "cell_type": "markdown",
   "metadata": {},
   "source": [
    "# Собственные kernel"
   ]
  },
  {
   "cell_type": "markdown",
   "metadata": {},
   "source": [
    "Тип можно указать явно, но если все типы одинаковы и могут меняться, то указывается тип T, который будет определен компилятором"
   ]
  },
  {
   "cell_type": "code",
   "execution_count": null,
   "metadata": {},
   "outputs": [],
   "source": [
    "cupy.ElementwiseKernel(in_params, # входные параметры\n",
    "                       out_params, # выходные параметры\n",
    "                       operation, # тело цикла, напианное на CUDA-C/C++\n",
    "                       name=u'kernel', # имя функции ядра\n",
    "                       reduce_dims=True, # если False, то формы массивов сохраняются. Иначе размерности уменьшаются до минимума\n",
    "                                         # и это позволяет ускорять функции\n",
    "                       preamble=u'', # фрагмент кода CUDA-C / C++, вставляемый в верхнюю часть файла cu\n",
    "                       no_return=False, # метод __call__ ничего не возвращает если True\n",
    "                       return_tuple=False, # если True, то всегда возвращается tuple, даже если 1 елемент\n",
    "                       **kwargs)"
   ]
  },
  {
   "cell_type": "code",
   "execution_count": null,
   "metadata": {},
   "outputs": [],
   "source": [
    "squared_diff = cp.ElementwiseKernel(\n",
    "    in_params='float32 x, float32 y',\n",
    "    out_params='float32 z',\n",
    "    operation='z = (x - y) * (x - y)',\n",
    "    name='squared_diff')"
   ]
  },
  {
   "cell_type": "code",
   "execution_count": null,
   "metadata": {},
   "outputs": [],
   "source": [
    "x = cp.arange(10, dtype=np.float32).reshape(2, 5)\n",
    "squared_diff(x, 5)"
   ]
  },
  {
   "cell_type": "code",
   "execution_count": null,
   "metadata": {},
   "outputs": [],
   "source": [
    "#Можно передать массив, в который записывается результат\n",
    "z = cp.empty((2, 5), dtype=np.float32)\n",
    "squared_diff(x, 5, z)"
   ]
  },
  {
   "cell_type": "code",
   "execution_count": null,
   "metadata": {},
   "outputs": [],
   "source": [
    "cupy.ReductionKernel(in_params, # входные параметры\n",
    "                     out_params, # выходные параметры\n",
    "                     map_expr, # map операция для входных значений\n",
    "                     reduce_expr, # reduce операция для входных значений\n",
    "                     post_map_expr, # map операция для взначений после reduce операции\n",
    "                     identity, #значение идентификатора для начала reduce операций\n",
    "                     name=u'reduce_kernel',\n",
    "                     reduce_type=None,\n",
    "                     reduce_dims=True,\n",
    "                     preamble=u'',\n",
    "                     options=() # дополнительные опции для компиляции\n",
    "                    )"
   ]
  },
  {
   "cell_type": "code",
   "execution_count": null,
   "metadata": {},
   "outputs": [],
   "source": [
    "l2norm_kernel = cp.ReductionKernel(\n",
    "    'T x',  # input params\n",
    "    'T y',  # output params\n",
    "    'x * x',  # map\n",
    "    'a + b',  # reduce\n",
    "    'y = sqrt(a)',  # post-reduction map\n",
    "    '0',  # identity value\n",
    "    'l2norm'  # kernel name\n",
    ")\n",
    "x = cp.arange(10, dtype=np.float32).reshape(2, 5)\n",
    "l2norm_kernel(x, axis=1)"
   ]
  },
  {
   "cell_type": "markdown",
   "metadata": {},
   "source": [
    "cp.RawKernel для кода на CUDA source code"
   ]
  },
  {
   "cell_type": "markdown",
   "metadata": {},
   "source": [
    "ElementwiseKernel и ReductionKernel могут быть написаны проще через декоратор @cp.fuse()"
   ]
  },
  {
   "cell_type": "code",
   "execution_count": null,
   "metadata": {},
   "outputs": [],
   "source": [
    "@cp.fuse()\n",
    "def squared_diff_dec(x, y):\n",
    "    return (x - y) * (x - y)\n",
    "\n",
    "squared_diff_dec(x, 5)"
   ]
  },
  {
   "cell_type": "code",
   "execution_count": null,
   "metadata": {},
   "outputs": [],
   "source": [
    "@cp.fuse()\n",
    "def l2norm_dec(x):\n",
    "    return cp.sqrt(cp.sum(cp.power(x, 2), axis=1))\n",
    "\n",
    "l2norm_dec(x)"
   ]
  },
  {
   "cell_type": "code",
   "execution_count": null,
   "metadata": {},
   "outputs": [],
   "source": [
    "%timeit squared_diff(x, 5)"
   ]
  },
  {
   "cell_type": "markdown",
   "metadata": {},
   "source": [
    "Помним, что данные уже на GPU и это сравнение с cupy без оптимизации!"
   ]
  },
  {
   "cell_type": "code",
   "execution_count": null,
   "metadata": {},
   "outputs": [],
   "source": [
    "%timeit (x - 5) * (x - 5)"
   ]
  },
  {
   "cell_type": "code",
   "execution_count": null,
   "metadata": {},
   "outputs": [],
   "source": [
    "%timeit squared_diff_dec(x, 5)"
   ]
  },
  {
   "cell_type": "code",
   "execution_count": null,
   "metadata": {},
   "outputs": [],
   "source": [
    "%timeit l2norm_kernel(x, axis=1)"
   ]
  },
  {
   "cell_type": "markdown",
   "metadata": {},
   "source": [
    "Помним, что данные уже на GPU и это сравнение с cupy без оптимизации!"
   ]
  },
  {
   "cell_type": "code",
   "execution_count": null,
   "metadata": {},
   "outputs": [],
   "source": [
    "%timeit cp.sqrt(cp.sum(cp.power(x, 2), axis=1))"
   ]
  },
  {
   "cell_type": "code",
   "execution_count": null,
   "metadata": {},
   "outputs": [],
   "source": [
    "%timeit l2norm_dec(x)"
   ]
  },
  {
   "cell_type": "markdown",
   "metadata": {},
   "source": [
    "# Домашнее задание"
   ]
  },
  {
   "cell_type": "markdown",
   "metadata": {},
   "source": [
    "Так как синтаксис очень похож на numpy, то ничего сложного в cupy нет. \n",
    "Придумайте какую-нибудь функцию только с использованием numpy и не в одну операцию, чтобы она несла какой-то смылс. Что-то аналогичное функции из занятия l2norm_dec:\n",
    "\n",
    "    def l2norm_dec(x):\n",
    "        return cp.sqrt(cp.sum(cp.power(x, 2), axis=1))\n",
    "        \n",
    "Запишите эту же функцию при помощи cupy\n",
    "\n",
    "Третья функция - cupy + декоратор @cp.fuse()\n",
    "\n",
    "Сравните время выполнения=)"
   ]
  }
 ],
 "metadata": {
  "kernelspec": {
   "display_name": "Python 3",
   "language": "python",
   "name": "python3"
  },
  "language_info": {
   "codemirror_mode": {
    "name": "ipython",
    "version": 3
   },
   "file_extension": ".py",
   "mimetype": "text/x-python",
   "name": "python",
   "nbconvert_exporter": "python",
   "pygments_lexer": "ipython3",
   "version": "3.7.10"
  }
 },
 "nbformat": 4,
 "nbformat_minor": 4
}
