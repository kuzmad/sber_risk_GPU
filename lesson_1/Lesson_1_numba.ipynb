{
 "cells": [
  {
   "cell_type": "markdown",
   "metadata": {},
   "source": [
    "# Numba\n",
    "\n",
    "Numba-это компилятор для массивов Python и числовых функций, который дает вам возможность ускорить ваши приложения с помощью высокопроизводительных функций, написанных непосредственно на Python.\n",
    "\n",
    "Numba генерирует оптимизированный машинный код из чистого кода Python с использованием инфраструктуры компилятора LLVM. С помощью numba тяжелый код Python может быть оптимизирован до производительности, аналогичной C, C++ и Fortran, без необходимости переключения языков или интерпретаторов Python.\n",
    "\n",
    "Оптимизация происходит при помощи использования различных декораторов.\n",
    "\n",
    "### @jit\n",
    "Самый базовый декоратор, который использует Numba JIT компилятор для оптимизации. Numba сама анализирует код и решает, какие его части можно оптимизировать. Внутри генерируется код, обрабатывающий все значения как объекты Python и использующий Python C API для выполнения всех операций с этими объектами. Чаще всего он будет не быстрее, чем оригинальный код на Python за исключением оптимизации циклов в nopython режиме.\n",
    "\n",
    "### @njit\n",
    "\n",
    "Режим компиляции Numba, который генерирует код, не имеющий доступа к Python C API. Этот режим компиляции создает код с наивысшей производительностью, но может взаимодействовать только с определенными типами объектов.\n",
    "\n",
    "http://numba.pydata.org/numba-doc/latest/reference/pysupported.html#pysupported-builtin-types\n",
    "\n",
    "Параметры:\n",
    "\n",
    "nogil - отключает GIL для nopython mode и позволяет использовать многопоточность, но в таком режиме не стоит забывать про подводные камни многопоточности: согласованность, синхронизация, условия конкурренции.\n",
    "\n",
    "parallel - позволяет автоматически распараллеливать код там, где это возможно (https://numba.readthedocs.io/en/stable/user/parallel.html#numba-parallel)\n",
    "\n",
    "cache - кеширует результат работы функции\n",
    "\n",
    "### @vectorize\n",
    "\n",
    "Данный декоратор позволяет создавать универсальный функции ufuncs оперируя синтаксисом numpy, достигая производительности, как на ufuncs написанных на языке C. Функция работает с данными не как с массивами, а отдельно с каждым скаляром, создавая оптимальные циклы для итерирования. Данный вариант не всегда будет быстрее, чем njit, но он позволяет работать с GPU.\n",
    "ПО умолчанию параметр target='cpu', но можно выставить 'parallel' и 'cuda'.\n",
    "\n",
    "### @guvectorize\n",
    "\n",
    "В то время как vectorize() позволяет писать ufuncs, которые работают с одним элементом за один раз, декоратор guvectorize() делает еще один шаг вперед и позволяет писать ufuncs, которые будут работать с произвольным числом элементов входных массивов, а также принимать и возвращать массивы различных размеров. Например, он полезен при расчете скользящего среднего.\n",
    "http://numba.pydata.org/numba-doc/latest/cuda/cudapysupported.html"
   ]
  },
  {
   "cell_type": "code",
   "execution_count": null,
   "metadata": {},
   "outputs": [],
   "source": [
    "from numba import jit, njit, cuda, vectorize, float64, float32, cuda, guvectorize, int32\n",
    "import numpy as np\n",
    "from numpy import testing\n",
    "import math"
   ]
  },
  {
   "cell_type": "markdown",
   "metadata": {},
   "source": [
    "Операции с 1 числом"
   ]
  },
  {
   "cell_type": "code",
   "execution_count": null,
   "metadata": {},
   "outputs": [],
   "source": [
    "def compute_logit(y):\n",
    "    logit = 1 / (1 + math.exp(-y))\n",
    "    return logit\n",
    "\n",
    "@jit\n",
    "def compute_logit_numba(y):\n",
    "    logit = 1 / (1 + math.exp(-y))\n",
    "    return logit\n",
    "\n",
    "@njit\n",
    "def compute_logit_numba_2(y):\n",
    "    logit = 1 / (1 + math.exp(-y))\n",
    "    return logit"
   ]
  },
  {
   "cell_type": "markdown",
   "metadata": {},
   "source": [
    "Давайте посмотрим, есть ли какая-то оптимизация, когда у на соперация с одним числом и нет циклов"
   ]
  },
  {
   "cell_type": "code",
   "execution_count": null,
   "metadata": {},
   "outputs": [],
   "source": [
    "%timeit compute_logit(3.5)"
   ]
  },
  {
   "cell_type": "code",
   "execution_count": null,
   "metadata": {},
   "outputs": [],
   "source": [
    "%timeit compute_logit_numba(3.5)"
   ]
  },
  {
   "cell_type": "code",
   "execution_count": null,
   "metadata": {},
   "outputs": [],
   "source": [
    "%timeit compute_logit_numba_2(3.5)"
   ]
  },
  {
   "cell_type": "markdown",
   "metadata": {},
   "source": [
    "Вектора"
   ]
  },
  {
   "cell_type": "markdown",
   "metadata": {},
   "source": [
    "Создадим вектор размерности 10 000 000 чисел float64"
   ]
  },
  {
   "cell_type": "code",
   "execution_count": null,
   "metadata": {},
   "outputs": [],
   "source": [
    "x = np.random.random_sample(10000000)"
   ]
  },
  {
   "cell_type": "code",
   "execution_count": null,
   "metadata": {},
   "outputs": [],
   "source": [
    "def logistic(y):\n",
    "    result = [1 / (1 + math.exp(-val)) for val in y]\n",
    "    return result\n",
    "\n",
    "@njit\n",
    "def logistic_simple_numba(y):\n",
    "    result = [1 / (1 + math.exp(-val)) for val in y]\n",
    "    return result\n",
    "\n",
    "@njit(nogil=True)\n",
    "def logistic_simple_numba_ng(y):\n",
    "    result = [1 / (1 + math.exp(-val)) for val in y]\n",
    "    return result\n",
    "\n",
    "def logistic_numpy(y):\n",
    "    return 1 / (1 + np.exp(-y))"
   ]
  },
  {
   "cell_type": "code",
   "execution_count": null,
   "metadata": {},
   "outputs": [],
   "source": [
    "%timeit logistic(x)"
   ]
  },
  {
   "cell_type": "code",
   "execution_count": null,
   "metadata": {},
   "outputs": [],
   "source": [
    "%timeit logistic_simple_numba(x)"
   ]
  },
  {
   "cell_type": "code",
   "execution_count": null,
   "metadata": {},
   "outputs": [],
   "source": [
    "%timeit logistic_simple_numba_ng(x)"
   ]
  },
  {
   "cell_type": "code",
   "execution_count": null,
   "metadata": {},
   "outputs": [],
   "source": [
    "%timeit logistic_numpy(x)"
   ]
  },
  {
   "cell_type": "markdown",
   "metadata": {},
   "source": [
    "А что если numpy код обернуть декоратором?"
   ]
  },
  {
   "cell_type": "code",
   "execution_count": null,
   "metadata": {},
   "outputs": [],
   "source": [
    "@njit\n",
    "def logistic_numba(y):\n",
    "    return 1 / (1 + np.exp(-y))\n",
    "\n",
    "@njit(parallel=True)\n",
    "def logistic_numba_parallel(y):\n",
    "    return 1 / (1 + np.exp(-y))"
   ]
  },
  {
   "cell_type": "code",
   "execution_count": null,
   "metadata": {},
   "outputs": [],
   "source": [
    "%timeit logistic_numba(x)"
   ]
  },
  {
   "cell_type": "code",
   "execution_count": null,
   "metadata": {},
   "outputs": [],
   "source": [
    "%timeit logistic_numba_parallel(x)"
   ]
  },
  {
   "cell_type": "markdown",
   "metadata": {},
   "source": [
    "Есть декоратор для работы с веткорами, давайте попробуем и его!"
   ]
  },
  {
   "cell_type": "code",
   "execution_count": null,
   "metadata": {},
   "outputs": [],
   "source": [
    "@vectorize([float64(float64)], nopython=True)\n",
    "def logistic_numba_v(y):\n",
    "    return 1 / (1 + np.exp(-y))\n",
    "\n",
    "@vectorize([float64(float64)], target='cuda')\n",
    "def logistic_numba_v_cuda(y):\n",
    "    return 1 / (1 + math.exp(-y))"
   ]
  },
  {
   "cell_type": "code",
   "execution_count": null,
   "metadata": {},
   "outputs": [],
   "source": [
    "%timeit logistic_numba_v(x)"
   ]
  },
  {
   "cell_type": "code",
   "execution_count": null,
   "metadata": {},
   "outputs": [],
   "source": [
    "%timeit logistic_numba_v_cuda(x)"
   ]
  },
  {
   "cell_type": "markdown",
   "metadata": {},
   "source": [
    "Что-то GPU не впечатлило...а что можно сделать? Первое - это перейти на float32, сильно ничего не потеряем, но взамен преобретем скорость=)"
   ]
  },
  {
   "cell_type": "code",
   "execution_count": null,
   "metadata": {},
   "outputs": [],
   "source": [
    "x_32 = np.float32(np.random.random_sample(10000000))\n",
    "\n",
    "\n",
    "@vectorize([float32(float32)], target='cuda')\n",
    "def logistic_numba_v_cuda(y):\n",
    "    return 1 / (1 + math.exp(y))"
   ]
  },
  {
   "cell_type": "code",
   "execution_count": null,
   "metadata": {},
   "outputs": [],
   "source": [
    "%timeit logistic_numba_v_cuda(x_32)"
   ]
  },
  {
   "cell_type": "markdown",
   "metadata": {},
   "source": [
    "Так, все равно что-то не так...Давайте вспомним о том, что есть расходы на передачу данных от оперативной памяти на GPU и попробуем сделать это заранее. А также заранее заразервируем на GPU место для результата"
   ]
  },
  {
   "cell_type": "code",
   "execution_count": null,
   "metadata": {},
   "outputs": [],
   "source": [
    "x_device = cuda.to_device(x_32)\n",
    "out_device = cuda.device_array(shape=(len(x_32),), dtype=np.float32) "
   ]
  },
  {
   "cell_type": "code",
   "execution_count": null,
   "metadata": {},
   "outputs": [],
   "source": [
    "%timeit logistic_numba_v_cuda(x_device, out=out_device)"
   ]
  },
  {
   "cell_type": "markdown",
   "metadata": {},
   "source": [
    "А теперь давайте напишем функцию через cuda.jit"
   ]
  },
  {
   "cell_type": "code",
   "execution_count": null,
   "metadata": {},
   "outputs": [],
   "source": [
    "@cuda.jit\n",
    "def logistic_cuda_jit(x, y):\n",
    "    pos = cuda.grid(1)\n",
    "    if pos < x.size:\n",
    "        y[pos] = 1 / (1 + 1 + math.exp(-x[pos]))"
   ]
  },
  {
   "cell_type": "code",
   "execution_count": null,
   "metadata": {},
   "outputs": [],
   "source": [
    "threadsperblock = 64\n",
    "blockspergrid = int(math.ceil(x.shape[0] / threadsperblock))\n",
    "\n",
    "d_x = cuda.to_device(x_32)\n",
    "y = np.zeros(x.shape[0])\n",
    "d_y = cuda.to_device(y)"
   ]
  },
  {
   "cell_type": "code",
   "execution_count": null,
   "metadata": {},
   "outputs": [],
   "source": [
    "for threadsperblock in [16, 32, 64, 128, 256]:\n",
    "    blockspergrid = int(math.ceil(x.shape[0] / threadsperblock))\n",
    "    res = %timeit -o logistic_cuda_jit[blockspergrid, threadsperblock](d_x, d_y)\n",
    "    print(f'Number of threads - {threadsperblock}, time - {res.average}')"
   ]
  },
  {
   "cell_type": "markdown",
   "metadata": {},
   "source": [
    "Самим писать бывает полезно, можно найти вариант, когда реализация быстрее готовых решений, но нужно подбирать параметры"
   ]
  },
  {
   "cell_type": "markdown",
   "metadata": {},
   "source": [
    "guvectorize"
   ]
  },
  {
   "cell_type": "code",
   "execution_count": null,
   "metadata": {},
   "outputs": [],
   "source": [
    "x = np.random.random_sample(100000)"
   ]
  },
  {
   "cell_type": "code",
   "execution_count": null,
   "metadata": {},
   "outputs": [],
   "source": [
    "def moving_average(vector, window):\n",
    "    avg = [vector[i:i+window].mean() for i in range(len(vector))]\n",
    "    return np.array(avg)\n",
    "\n",
    "@guvectorize(['void(float64[:], int32, float64[:])'],\n",
    "             '(n),()->(n)', nopython=True)\n",
    "def moving_average_g(vector, window, out):\n",
    "    for i in range(len(vector)):\n",
    "        acc = 0.\n",
    "        values = vector[i:i+window]\n",
    "        for val in values:\n",
    "            acc += val\n",
    "        out[i] = acc / len(values)\n",
    "        \n",
    "@guvectorize(['void(float64[:], int64, float64[:])'],\n",
    "             '(n),()->(n)', target='cuda')\n",
    "def moving_average_cuda(vector, window, out):\n",
    "    for i in range(len(vector)):\n",
    "        acc = 0.\n",
    "        values = vector[i:i+window]\n",
    "        for val in values:\n",
    "            acc += val\n",
    "        out[i] = acc / len(values)"
   ]
  },
  {
   "cell_type": "code",
   "execution_count": null,
   "metadata": {},
   "outputs": [],
   "source": [
    "%timeit moving_average(x, 10)"
   ]
  },
  {
   "cell_type": "code",
   "execution_count": null,
   "metadata": {},
   "outputs": [],
   "source": [
    "%timeit moving_average_g(x, 10)"
   ]
  },
  {
   "cell_type": "code",
   "execution_count": null,
   "metadata": {},
   "outputs": [],
   "source": [
    "x_device = cuda.to_device(x)\n",
    "window = cuda.to_device(10)"
   ]
  },
  {
   "cell_type": "code",
   "execution_count": null,
   "metadata": {},
   "outputs": [],
   "source": [
    "%time moving_average_cuda(x_device, window)"
   ]
  },
  {
   "cell_type": "markdown",
   "metadata": {},
   "source": [
    "Матрицы"
   ]
  },
  {
   "cell_type": "code",
   "execution_count": null,
   "metadata": {},
   "outputs": [],
   "source": [
    "x = np.random.random_sample(90000).reshape(300, 300)\n",
    "y = np.random.random_sample(90000).reshape(300, 300)"
   ]
  },
  {
   "cell_type": "code",
   "execution_count": null,
   "metadata": {},
   "outputs": [],
   "source": [
    "def mm(x, y):\n",
    "    x_rows, x_cols = x.shape\n",
    "    y_rows, y_cols = y.shape\n",
    "    z = np.zeros(x_rows * y_cols).reshape(x_rows, y_cols)\n",
    "    for i in range(x_rows):\n",
    "        for j in range(x_cols):\n",
    "            for k in range(y_cols):\n",
    "                z[i][k] += x[i][j] * y[j][k]\n",
    "    return z\n",
    "\n",
    "def mm_numpy(x, y):\n",
    "    return np.dot(x, y)\n",
    "\n",
    "@njit\n",
    "def nn_numba(x, y):\n",
    "    x_rows, x_cols = x.shape\n",
    "    y_rows, y_cols = y.shape\n",
    "    z = np.zeros(x_rows * y_cols).reshape(x_rows, y_cols)\n",
    "    for i in range(x_rows):\n",
    "        for j in range(x_cols):\n",
    "            for k in range(y_cols):\n",
    "                z[i][k] += x[i][j] * y[j][k]\n",
    "    return z\n",
    "\n",
    "@njit(parallel=True)\n",
    "def mm_numpy_numba(x, y):\n",
    "    return np.dot(x, y)\n",
    "\n",
    "\n",
    "@cuda.jit\n",
    "def mm_cuda(x, y, z):\n",
    "    i, j = cuda.grid(2)\n",
    "    tmp = 0.\n",
    "    for k in range(x.shape[1]):\n",
    "        tmp += x[i, k] * y[k, j]\n",
    "    z[i, j] = tmp"
   ]
  },
  {
   "cell_type": "code",
   "execution_count": null,
   "metadata": {},
   "outputs": [],
   "source": [
    "testing.assert_almost_equal(mm(x, y), mm_numpy(x, y), decimal=2)"
   ]
  },
  {
   "cell_type": "code",
   "execution_count": null,
   "metadata": {},
   "outputs": [],
   "source": [
    "%time mm(x, y)"
   ]
  },
  {
   "cell_type": "code",
   "execution_count": null,
   "metadata": {},
   "outputs": [],
   "source": [
    "%timeit mm_numpy(x, y)"
   ]
  },
  {
   "cell_type": "code",
   "execution_count": null,
   "metadata": {},
   "outputs": [],
   "source": [
    "%timeit nn_numba(x, y)"
   ]
  },
  {
   "cell_type": "code",
   "execution_count": null,
   "metadata": {},
   "outputs": [],
   "source": [
    "%timeit mm_numpy_numba(x, y)"
   ]
  },
  {
   "cell_type": "code",
   "execution_count": null,
   "metadata": {},
   "outputs": [],
   "source": [
    "threadsperblock = (16, 16)\n",
    "blockspergrid_x = int(math.ceil(x.shape[0] / threadsperblock[0]))\n",
    "blockspergrid_y = int(math.ceil(y.shape[1] / threadsperblock[1]))\n",
    "blockspergrid = (blockspergrid_x, blockspergrid_y)\n",
    "\n",
    "d_x = cuda.to_device(x)\n",
    "d_y = cuda.to_device(y)\n",
    "z = np.zeros(x.shape[0] * y.shape[1]).reshape(x.shape[0], y.shape[1])\n",
    "d_z = cuda.to_device(z)"
   ]
  },
  {
   "cell_type": "code",
   "execution_count": null,
   "metadata": {},
   "outputs": [],
   "source": [
    "%timeit mm_cuda[blockspergrid, threadsperblock](d_x, d_y, d_z)"
   ]
  },
  {
   "cell_type": "code",
   "execution_count": null,
   "metadata": {},
   "outputs": [],
   "source": [
    "a = %timeit -n 100 -r 10 -o mm_cuda[blockspergrid, threadsperblock](d_x, d_y, d_z)"
   ]
  },
  {
   "cell_type": "markdown",
   "metadata": {},
   "source": [
    "# Домашнее задание"
   ]
  },
  {
   "cell_type": "markdown",
   "metadata": {},
   "source": [
    "Задание будет простым: нужно реализовать функции для поэлементного сложения двух матриц:\n",
    "\n",
    "    1) На чистом python\n",
    "    2) python + @njit\n",
    "    3) numpy\n",
    "    4) numpy + @njit\n",
    "    5) @cuda.jit\n",
    "    \n",
    "Также необходимо замерить время выполнения"
   ]
  }
 ],
 "metadata": {
  "kernelspec": {
   "display_name": "Python 3",
   "language": "python",
   "name": "python3"
  },
  "language_info": {
   "codemirror_mode": {
    "name": "ipython",
    "version": 3
   },
   "file_extension": ".py",
   "mimetype": "text/x-python",
   "name": "python",
   "nbconvert_exporter": "python",
   "pygments_lexer": "ipython3",
   "version": "3.7.10"
  }
 },
 "nbformat": 4,
 "nbformat_minor": 4
}
